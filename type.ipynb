{
 "metadata": {
  "name": "",
  "signature": "sha256:0c6aa5f47bfc405bad843e596922c1cf8d6690d1b7821e1e9b879e9fb5e5bf23"
 },
 "nbformat": 3,
 "nbformat_minor": 0,
 "worksheets": [
  {
   "cells": [
    {
     "cell_type": "code",
     "collapsed": false,
     "input": [
      "import pandas as pd\n",
      "import numpy as np\n",
      "import matplotlib.pyplot as plt\n",
      "%matplotlib inline"
     ],
     "language": "python",
     "metadata": {},
     "outputs": [],
     "prompt_number": 58
    },
    {
     "cell_type": "code",
     "collapsed": false,
     "input": [
      "import csv"
     ],
     "language": "python",
     "metadata": {},
     "outputs": [],
     "prompt_number": 59
    },
    {
     "cell_type": "code",
     "collapsed": false,
     "input": [
      "import re\n",
      "from bs4 import BeautifulSoup"
     ],
     "language": "python",
     "metadata": {},
     "outputs": [],
     "prompt_number": 60
    },
    {
     "cell_type": "code",
     "collapsed": false,
     "input": [
      "states= pd.read_csv('/Users/malcolmbarnes/Desktop/USDemographics.csv')\n",
      "income= pd.read_csv('/Users/malcolmbarnes/Desktop/modesto.csv')\n",
      "states"
     ],
     "language": "python",
     "metadata": {},
     "outputs": [
      {
       "html": [
        "<div style=\"max-width:1500px;overflow:auto;\">\n",
        "<table border=\"1\" class=\"dataframe\">\n",
        "  <thead>\n",
        "    <tr style=\"text-align: right;\">\n",
        "      <th></th>\n",
        "      <th>Sex and age</th>\n",
        "      <th>Number, 2000</th>\n",
        "      <th>Percent</th>\n",
        "      <th>Number, 2010</th>\n",
        "      <th>Percent.1</th>\n",
        "    </tr>\n",
        "  </thead>\n",
        "  <tbody>\n",
        "    <tr>\n",
        "      <th>0</th>\n",
        "      <td>Total population</td>\n",
        "      <td>281,421,906</td>\n",
        "      <td>100.00%</td>\n",
        "      <td>308,745,538</td>\n",
        "      <td>100.00%</td>\n",
        "    </tr>\n",
        "    <tr>\n",
        "      <th>1</th>\n",
        "      <td>Male</td>\n",
        "      <td>138,053,563</td>\n",
        "      <td>49.1</td>\n",
        "      <td>151,781,326</td>\n",
        "      <td>49.2</td>\n",
        "    </tr>\n",
        "    <tr>\n",
        "      <th>2</th>\n",
        "      <td>Female</td>\n",
        "      <td>143,368,343</td>\n",
        "      <td>50.9</td>\n",
        "      <td>156,964,212</td>\n",
        "      <td>50.8</td>\n",
        "    </tr>\n",
        "    <tr>\n",
        "      <th>3</th>\n",
        "      <td>Under 5 years</td>\n",
        "      <td>19,175,798</td>\n",
        "      <td>6.8</td>\n",
        "      <td>20,201,362</td>\n",
        "      <td>6.5</td>\n",
        "    </tr>\n",
        "    <tr>\n",
        "      <th>4</th>\n",
        "      <td>5 to 9 years</td>\n",
        "      <td>20,549,505</td>\n",
        "      <td>7.3</td>\n",
        "      <td>20,348,657</td>\n",
        "      <td>6.6</td>\n",
        "    </tr>\n",
        "    <tr>\n",
        "      <th>5</th>\n",
        "      <td>10 to 14 years</td>\n",
        "      <td>20,528,072</td>\n",
        "      <td>7.3</td>\n",
        "      <td>20,677,194</td>\n",
        "      <td>6.7</td>\n",
        "    </tr>\n",
        "    <tr>\n",
        "      <th>6</th>\n",
        "      <td>15 to 19 years</td>\n",
        "      <td>20,219,890</td>\n",
        "      <td>7.2</td>\n",
        "      <td>22,040,343</td>\n",
        "      <td>7.1</td>\n",
        "    </tr>\n",
        "    <tr>\n",
        "      <th>7</th>\n",
        "      <td>20 to 24 years</td>\n",
        "      <td>18,964,001</td>\n",
        "      <td>6.7</td>\n",
        "      <td>21,585,999</td>\n",
        "      <td>7</td>\n",
        "    </tr>\n",
        "    <tr>\n",
        "      <th>8</th>\n",
        "      <td>25 to 34 years</td>\n",
        "      <td>39,891,724</td>\n",
        "      <td>14.2</td>\n",
        "      <td>41,063,948</td>\n",
        "      <td>13.3</td>\n",
        "    </tr>\n",
        "    <tr>\n",
        "      <th>9</th>\n",
        "      <td>35 to 44 years</td>\n",
        "      <td>45,148,527</td>\n",
        "      <td>16</td>\n",
        "      <td>41,070,606</td>\n",
        "      <td>13.3</td>\n",
        "    </tr>\n",
        "    <tr>\n",
        "      <th>10</th>\n",
        "      <td>45 to 54 years</td>\n",
        "      <td>37,677,952</td>\n",
        "      <td>13.4</td>\n",
        "      <td>45,006,716</td>\n",
        "      <td>14.6</td>\n",
        "    </tr>\n",
        "    <tr>\n",
        "      <th>11</th>\n",
        "      <td>55 to 59 years</td>\n",
        "      <td>13,469,237</td>\n",
        "      <td>4.8</td>\n",
        "      <td>19,664,805</td>\n",
        "      <td>6.4</td>\n",
        "    </tr>\n",
        "    <tr>\n",
        "      <th>12</th>\n",
        "      <td>60 to 64 years</td>\n",
        "      <td>10,805,447</td>\n",
        "      <td>3.8</td>\n",
        "      <td>16,817,924</td>\n",
        "      <td>5.4</td>\n",
        "    </tr>\n",
        "    <tr>\n",
        "      <th>13</th>\n",
        "      <td>65 to 74 years</td>\n",
        "      <td>18,390,986</td>\n",
        "      <td>6.5</td>\n",
        "      <td>21,713,429</td>\n",
        "      <td>7</td>\n",
        "    </tr>\n",
        "    <tr>\n",
        "      <th>14</th>\n",
        "      <td>75 to 84 years</td>\n",
        "      <td>12,361,180</td>\n",
        "      <td>4.4</td>\n",
        "      <td>13,061,122</td>\n",
        "      <td>4.2</td>\n",
        "    </tr>\n",
        "    <tr>\n",
        "      <th>15</th>\n",
        "      <td>85 years and over</td>\n",
        "      <td>4,239,587</td>\n",
        "      <td>1.5</td>\n",
        "      <td>5,493,433</td>\n",
        "      <td>1.8</td>\n",
        "    </tr>\n",
        "    <tr>\n",
        "      <th>16</th>\n",
        "      <td>Median age (years)</td>\n",
        "      <td>35.3</td>\n",
        "      <td>n.a.</td>\n",
        "      <td>37.2</td>\n",
        "      <td>n.a.</td>\n",
        "    </tr>\n",
        "    <tr>\n",
        "      <th>17</th>\n",
        "      <td>18 years and over</td>\n",
        "      <td>209,128,094</td>\n",
        "      <td>74.3</td>\n",
        "      <td>234,564,071</td>\n",
        "      <td>76</td>\n",
        "    </tr>\n",
        "    <tr>\n",
        "      <th>18</th>\n",
        "      <td>21 years and over</td>\n",
        "      <td>196,899,193</td>\n",
        "      <td>70</td>\n",
        "      <td>220,958,853</td>\n",
        "      <td>71.6</td>\n",
        "    </tr>\n",
        "    <tr>\n",
        "      <th>19</th>\n",
        "      <td>62 years and over</td>\n",
        "      <td>41,256,029</td>\n",
        "      <td>14.7</td>\n",
        "      <td>49,972,181</td>\n",
        "      <td>16.2</td>\n",
        "    </tr>\n",
        "    <tr>\n",
        "      <th>20</th>\n",
        "      <td>65 years and over</td>\n",
        "      <td>34,991,753</td>\n",
        "      <td>12.4</td>\n",
        "      <td>40,267,984</td>\n",
        "      <td>13</td>\n",
        "    </tr>\n",
        "  </tbody>\n",
        "</table>\n",
        "</div>"
       ],
       "metadata": {},
       "output_type": "pyout",
       "prompt_number": 61,
       "text": [
        "           Sex and age Number, 2000  Percent Number, 2010 Percent.1\n",
        "0    Total population   281,421,906  100.00%  308,745,538   100.00%\n",
        "1                 Male  138,053,563     49.1  151,781,326      49.2\n",
        "2               Female  143,368,343     50.9  156,964,212      50.8\n",
        "3        Under 5 years   19,175,798      6.8   20,201,362       6.5\n",
        "4         5 to 9 years   20,549,505      7.3   20,348,657       6.6\n",
        "5       10 to 14 years   20,528,072      7.3   20,677,194       6.7\n",
        "6       15 to 19 years   20,219,890      7.2   22,040,343       7.1\n",
        "7       20 to 24 years   18,964,001      6.7   21,585,999         7\n",
        "8       25 to 34 years   39,891,724     14.2   41,063,948      13.3\n",
        "9       35 to 44 years   45,148,527       16   41,070,606      13.3\n",
        "10      45 to 54 years   37,677,952     13.4   45,006,716      14.6\n",
        "11      55 to 59 years   13,469,237      4.8   19,664,805       6.4\n",
        "12      60 to 64 years   10,805,447      3.8   16,817,924       5.4\n",
        "13      65 to 74 years   18,390,986      6.5   21,713,429         7\n",
        "14      75 to 84 years   12,361,180      4.4   13,061,122       4.2\n",
        "15   85 years and over    4,239,587      1.5    5,493,433       1.8\n",
        "16  Median age (years)         35.3     n.a.         37.2      n.a.\n",
        "17   18 years and over  209,128,094     74.3  234,564,071        76\n",
        "18   21 years and over  196,899,193       70  220,958,853      71.6\n",
        "19   62 years and over   41,256,029     14.7   49,972,181      16.2\n",
        "20   65 years and over   34,991,753     12.4   40,267,984        13"
       ]
      }
     ],
     "prompt_number": 61
    },
    {
     "cell_type": "code",
     "collapsed": false,
     "input": [
      "income"
     ],
     "language": "python",
     "metadata": {},
     "outputs": [
      {
       "html": [
        "<div style=\"max-width:1500px;overflow:auto;\">\n",
        "<table border=\"1\" class=\"dataframe\">\n",
        "  <thead>\n",
        "    <tr style=\"text-align: right;\">\n",
        "      <th></th>\n",
        "      <th>Country</th>\n",
        "      <th>United States</th>\n",
        "      <th>Ukraine</th>\n",
        "      <th>Ethiopia</th>\n",
        "      <th>Average</th>\n",
        "    </tr>\n",
        "  </thead>\n",
        "  <tbody>\n",
        "    <tr>\n",
        "      <th>0</th>\n",
        "      <td>Income/ Person</td>\n",
        "      <td>$41,678</td>\n",
        "      <td>$16, 390</td>\n",
        "      <td>$954</td>\n",
        "      <td>$19,674</td>\n",
        "    </tr>\n",
        "    <tr>\n",
        "      <th>1</th>\n",
        "      <td>Life Expectancy</td>\n",
        "      <td>79</td>\n",
        "      <td>68</td>\n",
        "      <td>63</td>\n",
        "      <td>70</td>\n",
        "    </tr>\n",
        "  </tbody>\n",
        "</table>\n",
        "</div>"
       ],
       "metadata": {},
       "output_type": "pyout",
       "prompt_number": 62,
       "text": [
        "           Country United States   Ukraine Ethiopia   Average\n",
        "0   Income/ Person      $41,678   $16, 390    $954   $19,674 \n",
        "1  Life Expectancy            79        68       63        70"
       ]
      }
     ],
     "prompt_number": 62
    },
    {
     "cell_type": "code",
     "collapsed": false,
     "input": [
      "#states_recent= states[['Sex and age', 'Number,2010']]\n",
      "#states_recent"
     ],
     "language": "python",
     "metadata": {},
     "outputs": [],
     "prompt_number": 90
    },
    {
     "cell_type": "markdown",
     "metadata": {},
     "source": [
      "Here I did a simple selection of the first two rows of the states dataframe. I would like more time to work on this since I really wanted to create two seperate dfs for each year and then plot a visual illustrating them."
     ]
    },
    {
     "cell_type": "code",
     "collapsed": false,
     "input": [
      "states[0:1]"
     ],
     "language": "python",
     "metadata": {},
     "outputs": [
      {
       "html": [
        "<div style=\"max-width:1500px;overflow:auto;\">\n",
        "<table border=\"1\" class=\"dataframe\">\n",
        "  <thead>\n",
        "    <tr style=\"text-align: right;\">\n",
        "      <th></th>\n",
        "      <th>Sex and age</th>\n",
        "      <th>Number, 2000</th>\n",
        "      <th>Percent</th>\n",
        "      <th>Number, 2010</th>\n",
        "      <th>Percent.1</th>\n",
        "    </tr>\n",
        "  </thead>\n",
        "  <tbody>\n",
        "    <tr>\n",
        "      <th>0</th>\n",
        "      <td>Total population</td>\n",
        "      <td>281,421,906</td>\n",
        "      <td>100.00%</td>\n",
        "      <td>308,745,538</td>\n",
        "      <td>100.00%</td>\n",
        "    </tr>\n",
        "  </tbody>\n",
        "</table>\n",
        "</div>"
       ],
       "metadata": {},
       "output_type": "pyout",
       "prompt_number": 64,
       "text": [
        "         Sex and age Number, 2000  Percent Number, 2010 Percent.1\n",
        "0  Total population   281,421,906  100.00%  308,745,538   100.00%"
       ]
      }
     ],
     "prompt_number": 64
    },
    {
     "cell_type": "code",
     "collapsed": false,
     "input": [
      "#show= income.plot(kind=bar)"
     ],
     "language": "python",
     "metadata": {},
     "outputs": [],
     "prompt_number": 91
    },
    {
     "cell_type": "markdown",
     "metadata": {},
     "source": [
      "Here I was attempting a bar chart to illustrate the differences in income/age ratio visually."
     ]
    },
    {
     "cell_type": "code",
     "collapsed": false,
     "input": [
      "income"
     ],
     "language": "python",
     "metadata": {},
     "outputs": [
      {
       "html": [
        "<div style=\"max-width:1500px;overflow:auto;\">\n",
        "<table border=\"1\" class=\"dataframe\">\n",
        "  <thead>\n",
        "    <tr style=\"text-align: right;\">\n",
        "      <th></th>\n",
        "      <th>Country</th>\n",
        "      <th>United States</th>\n",
        "      <th>Ukraine</th>\n",
        "      <th>Ethiopia</th>\n",
        "      <th>Average</th>\n",
        "    </tr>\n",
        "  </thead>\n",
        "  <tbody>\n",
        "    <tr>\n",
        "      <th>0</th>\n",
        "      <td>Income/ Person</td>\n",
        "      <td>$41,678</td>\n",
        "      <td>$16, 390</td>\n",
        "      <td>$954</td>\n",
        "      <td>$19,674</td>\n",
        "    </tr>\n",
        "    <tr>\n",
        "      <th>1</th>\n",
        "      <td>Life Expectancy</td>\n",
        "      <td>79</td>\n",
        "      <td>68</td>\n",
        "      <td>63</td>\n",
        "      <td>70</td>\n",
        "    </tr>\n",
        "  </tbody>\n",
        "</table>\n",
        "</div>"
       ],
       "metadata": {},
       "output_type": "pyout",
       "prompt_number": 92,
       "text": [
        "           Country United States   Ukraine Ethiopia   Average\n",
        "0   Income/ Person      $41,678   $16, 390    $954   $19,674 \n",
        "1  Life Expectancy            79        68       63        70"
       ]
      }
     ],
     "prompt_number": 92
    },
    {
     "cell_type": "code",
     "collapsed": false,
     "input": [
      "split= income.groupby('United States')\n",
      "split"
     ],
     "language": "python",
     "metadata": {},
     "outputs": [
      {
       "metadata": {},
       "output_type": "pyout",
       "prompt_number": 66,
       "text": [
        "<pandas.core.groupby.DataFrameGroupBy object at 0x10f5f6710>"
       ]
      }
     ],
     "prompt_number": 66
    },
    {
     "cell_type": "code",
     "collapsed": false,
     "input": [
      "dt = income"
     ],
     "language": "python",
     "metadata": {},
     "outputs": [],
     "prompt_number": 93
    },
    {
     "cell_type": "code",
     "collapsed": false,
     "input": [
      "dt= dt.T [1:-1]\n",
      "dt= dt.reset_index()\n",
      "dt.columns= ['Country', 'Income', 'Life Expectancy']\n",
      "dt"
     ],
     "language": "python",
     "metadata": {},
     "outputs": [
      {
       "html": [
        "<div style=\"max-width:1500px;overflow:auto;\">\n",
        "<table border=\"1\" class=\"dataframe\">\n",
        "  <thead>\n",
        "    <tr style=\"text-align: right;\">\n",
        "      <th></th>\n",
        "      <th>Country</th>\n",
        "      <th>Income</th>\n",
        "      <th>Life Expectancy</th>\n",
        "    </tr>\n",
        "  </thead>\n",
        "  <tbody>\n",
        "    <tr>\n",
        "      <th>0</th>\n",
        "      <td>United States</td>\n",
        "      <td>$41,678</td>\n",
        "      <td>79</td>\n",
        "    </tr>\n",
        "    <tr>\n",
        "      <th>1</th>\n",
        "      <td>Ukraine</td>\n",
        "      <td>$16, 390</td>\n",
        "      <td>68</td>\n",
        "    </tr>\n",
        "    <tr>\n",
        "      <th>2</th>\n",
        "      <td>Ethiopia</td>\n",
        "      <td>$954</td>\n",
        "      <td>63</td>\n",
        "    </tr>\n",
        "  </tbody>\n",
        "</table>\n",
        "</div>"
       ],
       "metadata": {},
       "output_type": "pyout",
       "prompt_number": 94,
       "text": [
        "         Country    Income Life Expectancy\n",
        "0  United States  $41,678               79\n",
        "1        Ukraine  $16, 390              68\n",
        "2       Ethiopia     $954               63"
       ]
      }
     ],
     "prompt_number": 94
    },
    {
     "cell_type": "code",
     "collapsed": false,
     "input": [
      "dt['Life Expectancy'].mean()"
     ],
     "language": "python",
     "metadata": {},
     "outputs": [
      {
       "metadata": {},
       "output_type": "pyout",
       "prompt_number": 95,
       "text": [
        "265621.0"
       ]
      }
     ],
     "prompt_number": 95
    },
    {
     "cell_type": "code",
     "collapsed": false,
     "input": [
      "dt.groupby('Income')"
     ],
     "language": "python",
     "metadata": {},
     "outputs": [
      {
       "metadata": {},
       "output_type": "pyout",
       "prompt_number": 96,
       "text": [
        "<pandas.core.groupby.DataFrameGroupBy object at 0x10f670e50>"
       ]
      }
     ],
     "prompt_number": 96
    },
    {
     "cell_type": "code",
     "collapsed": false,
     "input": [
      "type(dt)"
     ],
     "language": "python",
     "metadata": {},
     "outputs": [
      {
       "metadata": {},
       "output_type": "pyout",
       "prompt_number": 97,
       "text": [
        "pandas.core.frame.DataFrame"
       ]
      }
     ],
     "prompt_number": 97
    },
    {
     "cell_type": "code",
     "collapsed": false,
     "input": [
      "dt.index"
     ],
     "language": "python",
     "metadata": {},
     "outputs": [
      {
       "metadata": {},
       "output_type": "pyout",
       "prompt_number": 98,
       "text": [
        "Int64Index([0, 1, 2], dtype='int64')"
       ]
      }
     ],
     "prompt_number": 98
    },
    {
     "cell_type": "code",
     "collapsed": false,
     "input": [
      "dt"
     ],
     "language": "python",
     "metadata": {},
     "outputs": [
      {
       "html": [
        "<div style=\"max-width:1500px;overflow:auto;\">\n",
        "<table border=\"1\" class=\"dataframe\">\n",
        "  <thead>\n",
        "    <tr style=\"text-align: right;\">\n",
        "      <th></th>\n",
        "      <th>Country</th>\n",
        "      <th>Income</th>\n",
        "      <th>Life Expectancy</th>\n",
        "    </tr>\n",
        "  </thead>\n",
        "  <tbody>\n",
        "    <tr>\n",
        "      <th>0</th>\n",
        "      <td>United States</td>\n",
        "      <td>$41,678</td>\n",
        "      <td>79</td>\n",
        "    </tr>\n",
        "    <tr>\n",
        "      <th>1</th>\n",
        "      <td>Ukraine</td>\n",
        "      <td>$16, 390</td>\n",
        "      <td>68</td>\n",
        "    </tr>\n",
        "    <tr>\n",
        "      <th>2</th>\n",
        "      <td>Ethiopia</td>\n",
        "      <td>$954</td>\n",
        "      <td>63</td>\n",
        "    </tr>\n",
        "  </tbody>\n",
        "</table>\n",
        "</div>"
       ],
       "metadata": {},
       "output_type": "pyout",
       "prompt_number": 99,
       "text": [
        "         Country    Income Life Expectancy\n",
        "0  United States  $41,678               79\n",
        "1        Ukraine  $16, 390              68\n",
        "2       Ethiopia     $954               63"
       ]
      }
     ],
     "prompt_number": 99
    },
    {
     "cell_type": "code",
     "collapsed": false,
     "input": [
      "dt.add_suffix('_Mean').reset_index()"
     ],
     "language": "python",
     "metadata": {},
     "outputs": [
      {
       "html": [
        "<div style=\"max-width:1500px;overflow:auto;\">\n",
        "<table border=\"1\" class=\"dataframe\">\n",
        "  <thead>\n",
        "    <tr style=\"text-align: right;\">\n",
        "      <th></th>\n",
        "      <th>index</th>\n",
        "      <th>Country_Mean</th>\n",
        "      <th>Income_Mean</th>\n",
        "      <th>Life Expectancy_Mean</th>\n",
        "    </tr>\n",
        "  </thead>\n",
        "  <tbody>\n",
        "    <tr>\n",
        "      <th>0</th>\n",
        "      <td>0</td>\n",
        "      <td>United States</td>\n",
        "      <td>$41,678</td>\n",
        "      <td>79</td>\n",
        "    </tr>\n",
        "    <tr>\n",
        "      <th>1</th>\n",
        "      <td>1</td>\n",
        "      <td>Ukraine</td>\n",
        "      <td>$16, 390</td>\n",
        "      <td>68</td>\n",
        "    </tr>\n",
        "    <tr>\n",
        "      <th>2</th>\n",
        "      <td>2</td>\n",
        "      <td>Ethiopia</td>\n",
        "      <td>$954</td>\n",
        "      <td>63</td>\n",
        "    </tr>\n",
        "  </tbody>\n",
        "</table>\n",
        "</div>"
       ],
       "metadata": {},
       "output_type": "pyout",
       "prompt_number": 100,
       "text": [
        "   index   Country_Mean Income_Mean Life Expectancy_Mean\n",
        "0      0  United States    $41,678                    79\n",
        "1      1        Ukraine    $16, 390                   68\n",
        "2      2       Ethiopia       $954                    63"
       ]
      }
     ],
     "prompt_number": 100
    },
    {
     "cell_type": "markdown",
     "metadata": {},
     "source": [
      "I used the example from John Wilson in order to try and tidy the dataset. From there I tried to expriment with the Groupby maneuver but nothing was displayed? I suspect that there was an issue with the income amounts being stored as a string. Will continue to work at this throughout the week."
     ]
    },
    {
     "cell_type": "code",
     "collapsed": false,
     "input": [
      "\n"
     ],
     "language": "python",
     "metadata": {},
     "outputs": [],
     "prompt_number": 103
    },
    {
     "cell_type": "code",
     "collapsed": false,
     "input": [],
     "language": "python",
     "metadata": {},
     "outputs": []
    }
   ],
   "metadata": {}
  }
 ]
}